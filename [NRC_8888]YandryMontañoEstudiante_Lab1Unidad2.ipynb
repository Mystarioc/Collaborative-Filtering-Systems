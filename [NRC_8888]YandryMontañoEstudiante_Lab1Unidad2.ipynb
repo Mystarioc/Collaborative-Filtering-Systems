{
 "cells": [
  {
   "cell_type": "code",
   "execution_count": 28,
   "id": "424ae56b",
   "metadata": {},
   "outputs": [],
   "source": [
    "#Importacion de las librerias \n",
    "import pandas as pd\n",
    "import numpy as np\n",
    "\n",
    "from sklearn.metrics.pairwise import cosine_similarity\n",
    "from scipy.sparse import csr_matrix\n",
    "from scipy.sparse.linalg import svds\n",
    "\n",
    "from surprise import KNNWithMeans, Dataset, accuracy, Reader\n",
    "from surprise.model_selection import train_test_split"
   ]
  },
  {
   "cell_type": "code",
   "execution_count": 29,
   "id": "65eb05b2",
   "metadata": {},
   "outputs": [],
   "source": [
    "# Creación de una constante que tomara la base de datos\n",
    "PATH = 'data.csv'"
   ]
  },
  {
   "cell_type": "markdown",
   "id": "ba767811",
   "metadata": {},
   "source": [
    "# Import Data"
   ]
  },
  {
   "cell_type": "code",
   "execution_count": 30,
   "id": "d1a05ffb",
   "metadata": {},
   "outputs": [
    {
     "data": {
      "text/plain": [
       "(100000, 10)"
      ]
     },
     "execution_count": 30,
     "metadata": {},
     "output_type": "execute_result"
    }
   ],
   "source": [
    "# Lectura de la base de datos desde la constante anteriormente creada \n",
    "df = pd.read_csv(PATH)\n",
    "df.shape"
   ]
  },
  {
   "cell_type": "code",
   "execution_count": 31,
   "id": "5aaf9ee7",
   "metadata": {},
   "outputs": [
    {
     "data": {
      "text/html": [
       "<div>\n",
       "<style scoped>\n",
       "    .dataframe tbody tr th:only-of-type {\n",
       "        vertical-align: middle;\n",
       "    }\n",
       "\n",
       "    .dataframe tbody tr th {\n",
       "        vertical-align: top;\n",
       "    }\n",
       "\n",
       "    .dataframe thead th {\n",
       "        text-align: right;\n",
       "    }\n",
       "</style>\n",
       "<table border=\"1\" class=\"dataframe\">\n",
       "  <thead>\n",
       "    <tr style=\"text-align: right;\">\n",
       "      <th></th>\n",
       "      <th>book_id</th>\n",
       "      <th>author_id</th>\n",
       "      <th>book_genre</th>\n",
       "      <th>reader_id</th>\n",
       "      <th>num_pages</th>\n",
       "      <th>book_rating</th>\n",
       "      <th>publisher_id</th>\n",
       "      <th>publish_year</th>\n",
       "      <th>book_price</th>\n",
       "      <th>text_lang</th>\n",
       "    </tr>\n",
       "  </thead>\n",
       "  <tbody>\n",
       "    <tr>\n",
       "      <th>0</th>\n",
       "      <td>655</td>\n",
       "      <td>52</td>\n",
       "      <td>4</td>\n",
       "      <td>11482</td>\n",
       "      <td>300</td>\n",
       "      <td>4</td>\n",
       "      <td>8</td>\n",
       "      <td>2012</td>\n",
       "      <td>94</td>\n",
       "      <td>7</td>\n",
       "    </tr>\n",
       "    <tr>\n",
       "      <th>1</th>\n",
       "      <td>2713</td>\n",
       "      <td>90</td>\n",
       "      <td>3</td>\n",
       "      <td>6479</td>\n",
       "      <td>469</td>\n",
       "      <td>1</td>\n",
       "      <td>8</td>\n",
       "      <td>2012</td>\n",
       "      <td>33</td>\n",
       "      <td>5</td>\n",
       "    </tr>\n",
       "    <tr>\n",
       "      <th>2</th>\n",
       "      <td>409</td>\n",
       "      <td>17</td>\n",
       "      <td>2</td>\n",
       "      <td>25472</td>\n",
       "      <td>435</td>\n",
       "      <td>1</td>\n",
       "      <td>12</td>\n",
       "      <td>2001</td>\n",
       "      <td>196</td>\n",
       "      <td>4</td>\n",
       "    </tr>\n",
       "    <tr>\n",
       "      <th>3</th>\n",
       "      <td>1150</td>\n",
       "      <td>234</td>\n",
       "      <td>10</td>\n",
       "      <td>23950</td>\n",
       "      <td>529</td>\n",
       "      <td>2</td>\n",
       "      <td>23</td>\n",
       "      <td>2019</td>\n",
       "      <td>79</td>\n",
       "      <td>2</td>\n",
       "    </tr>\n",
       "    <tr>\n",
       "      <th>4</th>\n",
       "      <td>2424</td>\n",
       "      <td>390</td>\n",
       "      <td>5</td>\n",
       "      <td>13046</td>\n",
       "      <td>395</td>\n",
       "      <td>2</td>\n",
       "      <td>20</td>\n",
       "      <td>2010</td>\n",
       "      <td>200</td>\n",
       "      <td>4</td>\n",
       "    </tr>\n",
       "  </tbody>\n",
       "</table>\n",
       "</div>"
      ],
      "text/plain": [
       "   book_id  author_id  book_genre  reader_id  num_pages  book_rating  \\\n",
       "0      655         52           4      11482        300            4   \n",
       "1     2713         90           3       6479        469            1   \n",
       "2      409         17           2      25472        435            1   \n",
       "3     1150        234          10      23950        529            2   \n",
       "4     2424        390           5      13046        395            2   \n",
       "\n",
       "   publisher_id  publish_year  book_price  text_lang  \n",
       "0             8          2012          94          7  \n",
       "1             8          2012          33          5  \n",
       "2            12          2001         196          4  \n",
       "3            23          2019          79          2  \n",
       "4            20          2010         200          4  "
      ]
     },
     "execution_count": 31,
     "metadata": {},
     "output_type": "execute_result"
    }
   ],
   "source": [
    "# Visualizamos los primeros datos de nuestra base de datos\n",
    "df.head()"
   ]
  },
  {
   "cell_type": "markdown",
   "id": "ea984ed9",
   "metadata": {},
   "source": [
    "# Method 1"
   ]
  },
  {
   "cell_type": "code",
   "execution_count": 32,
   "id": "e4d30a66",
   "metadata": {},
   "outputs": [],
   "source": [
    "# generación de una tabla dinámica o pivote con el id_bock columna, reader_id \n",
    "# como index y book_rating como valor\n",
    "\n",
    "pt_df = df.pivot_table(\n",
    "    columns = 'book_id',\n",
    "    index = 'reader_id',\n",
    "    values = 'book_rating'\n",
    ").fillna(0)\n",
    "\n",
    "# Convercion matriz crs\n",
    "mat = pt_df.values\n",
    "mat = csr_matrix(mat)"
   ]
  },
  {
   "cell_type": "code",
   "execution_count": 33,
   "id": "15411d4b",
   "metadata": {},
   "outputs": [],
   "source": [
    "# Normalización de la salida de pred_ratings, pasando como parámetro la lista de puntuación\n",
    "\n",
    "def normalize(pred_ratings):\n",
    "    return (pred_ratings - pred_ratings.min()) / (pred_ratings.max() - pred_ratings.min())"
   ]
  },
  {
   "cell_type": "code",
   "execution_count": 34,
   "id": "e8568d3f",
   "metadata": {},
   "outputs": [],
   "source": [
    "# Función cálculo de descomposición de un solo valor de la matriz de entrada dados n_factores. \n",
    "# generará y normalizará las predicciones de valoración de los usuarios.\n",
    "\n",
    "def generate_prediction_df(mat, pt_df, n_factors):\n",
    "    if not 1 <= n_factors < min(mat.shape):\n",
    "        raise ValueError(\"Must be 1 <= n_factors < min(mat.shape)\")\n",
    "        \n",
    "    # Matriz de factorizacion\n",
    "    u, s, v = svds(mat, k = n_factors)\n",
    "    s = np.diag(s)\n",
    "\n",
    "    # Calculo de prediccion de puntuacion\n",
    "    pred_ratings = np.dot(np.dot(u, s), v) \n",
    "    pred_ratings = normalize(pred_ratings)\n",
    "    \n",
    "    # Convercion a df\n",
    "    pred_df = pd.DataFrame(\n",
    "        pred_ratings,\n",
    "        columns = pt_df.columns,\n",
    "        index = list(pt_df.index)\n",
    "    ).transpose()\n",
    "    return pred_df"
   ]
  },
  {
   "cell_type": "code",
   "execution_count": 35,
   "id": "b0f47b08",
   "metadata": {},
   "outputs": [
    {
     "name": "stdout",
     "output_type": "stream",
     "text": [
      "Wall time: 1.51 s\n"
     ]
    }
   ],
   "source": [
    "%time pred_df = generate_prediction_df(mat, pt_df, 10)"
   ]
  },
  {
   "cell_type": "code",
   "execution_count": 36,
   "id": "def9b4ad",
   "metadata": {},
   "outputs": [],
   "source": [
    "# La función realza los cálculos de los ítems recomendado a los usuarios, mediante la tabla de predicción , el usr_id  \n",
    "# y el número de ariticulos el cual se va a recomendar\n",
    "\n",
    "\n",
    "def recommend_items(pred_df, usr_id, n_recs):\n",
    "\n",
    "    usr_pred = pred_df[usr_id].sort_values(ascending = False).reset_index().rename(columns = {usr_id : 'sim'})\n",
    "    rec_df = usr_pred.sort_values(by = 'sim', ascending = False).head(n_recs)\n",
    "    return rec_df"
   ]
  },
  {
   "cell_type": "code",
   "execution_count": 37,
   "id": "916d3e60",
   "metadata": {},
   "outputs": [
    {
     "data": {
      "text/html": [
       "<div>\n",
       "<style scoped>\n",
       "    .dataframe tbody tr th:only-of-type {\n",
       "        vertical-align: middle;\n",
       "    }\n",
       "\n",
       "    .dataframe tbody tr th {\n",
       "        vertical-align: top;\n",
       "    }\n",
       "\n",
       "    .dataframe thead th {\n",
       "        text-align: right;\n",
       "    }\n",
       "</style>\n",
       "<table border=\"1\" class=\"dataframe\">\n",
       "  <thead>\n",
       "    <tr style=\"text-align: right;\">\n",
       "      <th></th>\n",
       "      <th>book_id</th>\n",
       "      <th>sim</th>\n",
       "    </tr>\n",
       "  </thead>\n",
       "  <tbody>\n",
       "    <tr>\n",
       "      <th>0</th>\n",
       "      <td>1108</td>\n",
       "      <td>0.143244</td>\n",
       "    </tr>\n",
       "    <tr>\n",
       "      <th>1</th>\n",
       "      <td>1839</td>\n",
       "      <td>0.140945</td>\n",
       "    </tr>\n",
       "    <tr>\n",
       "      <th>2</th>\n",
       "      <td>725</td>\n",
       "      <td>0.140516</td>\n",
       "    </tr>\n",
       "    <tr>\n",
       "      <th>3</th>\n",
       "      <td>1897</td>\n",
       "      <td>0.140497</td>\n",
       "    </tr>\n",
       "    <tr>\n",
       "      <th>4</th>\n",
       "      <td>1341</td>\n",
       "      <td>0.140086</td>\n",
       "    </tr>\n",
       "  </tbody>\n",
       "</table>\n",
       "</div>"
      ],
      "text/plain": [
       "   book_id       sim\n",
       "0     1108  0.143244\n",
       "1     1839  0.140945\n",
       "2      725  0.140516\n",
       "3     1897  0.140497\n",
       "4     1341  0.140086"
      ]
     },
     "execution_count": 37,
     "metadata": {},
     "output_type": "execute_result"
    }
   ],
   "source": [
    "# Se utiliza la función mandando por parámetros la tabla de predicción, el id del usuario al cual se va a realizar la \n",
    "# recomendación y el número de ítems o artículos que se le van a recomendar\n",
    "\n",
    "recommend_items(pred_df, 5, 5)"
   ]
  },
  {
   "cell_type": "markdown",
   "id": "aad562f7",
   "metadata": {},
   "source": [
    "## Method 2"
   ]
  },
  {
   "cell_type": "code",
   "execution_count": 38,
   "id": "97afdd22",
   "metadata": {},
   "outputs": [],
   "source": [
    "# generación de una tabla dinámica o pivote con el id_bock columna, author_id como index y \n",
    "# book_rating como valor\n",
    "\n",
    "pt_df = df.pivot_table(\n",
    "    columns = 'book_id', \n",
    "    index = 'author_id', \n",
    "    values = 'book_rating'\n",
    ").fillna(0)"
   ]
  },
  {
   "cell_type": "code",
   "execution_count": 39,
   "id": "9007c257",
   "metadata": {},
   "outputs": [],
   "source": [
    "# Función de buscar lectores similares, para esta función se ingresará la tabla de pivote, \n",
    "# el id del lector y el número de recomendaciones\n",
    "\n",
    "def find_similar_readers(pt_df, reader_id, n_recs):\n",
    "  \n",
    "    # Primero es necesario separa a los lectores de interés de los otros lectores para esto \n",
    "    # realizaremos comparaciones\n",
    "    reader = pt_df[pt_df.index == reader_id]\n",
    "    other_readers = pt_df[pt_df.index != reader_id]\n",
    "\n",
    "    # Obtenemos la similitud de nuestro lector en comparación a los demás lectores\n",
    "    sim = cosine_similarity(reader, other_readers)[0].tolist()\n",
    "    idx = other_readers.index.tolist()\n",
    "\n",
    "    \n",
    "    # Creación de un diccionario de similitud en donde se guardarán todas las recomendaciones \n",
    "    # para nuestro lector de interés\n",
    "    idx_sim = dict(zip(idx, sim))\n",
    "    idx_sim = sorted(idx_sim.items(), key=lambda x: x[1], reverse=True)\n",
    "\n",
    "    similar_readers = idx_sim[:n_recs]\n",
    "    readers = [rdr[0] for rdr in similar_readers]\n",
    "\n",
    "    return readers"
   ]
  },
  {
   "cell_type": "code",
   "execution_count": 40,
   "id": "8e8faeb3",
   "metadata": {},
   "outputs": [
    {
     "data": {
      "text/plain": [
       "[319, 191, 145, 162, 212]"
      ]
     },
     "execution_count": 40,
     "metadata": {},
     "output_type": "execute_result"
    }
   ],
   "source": [
    "# Para el usuario de la función es necesario ingresar la tabla pivotal, el id del lector y \n",
    "#el número de recomendaciones total que se le dará al lector\n",
    "\n",
    "find_similar_readers(pt_df = pt_df, reader_id = 226, n_recs = 5)"
   ]
  },
  {
   "cell_type": "markdown",
   "id": "59917105",
   "metadata": {},
   "source": [
    "# Method 3"
   ]
  },
  {
   "cell_type": "code",
   "execution_count": 41,
   "id": "bf383b1a",
   "metadata": {},
   "outputs": [],
   "source": [
    "# Tomamos las columnas: id del lector ,id del libro y puntuación del libro\n",
    "rdf = df[['reader_id', 'book_id', 'book_rating']]"
   ]
  },
  {
   "cell_type": "code",
   "execution_count": 42,
   "id": "ea370387",
   "metadata": {},
   "outputs": [],
   "source": [
    "# leemos los datos del dataset\n",
    "reader = Reader(rating_scale=(1, 5))\n",
    "data = Dataset.load_from_df(rdf, reader)"
   ]
  },
  {
   "cell_type": "code",
   "execution_count": 43,
   "id": "09286b97",
   "metadata": {},
   "outputs": [],
   "source": [
    "# Realizamos la partición de los datos para el entrenamiento y prueba del modelo\n",
    "trainset, testset = train_test_split(data, test_size=0.3,random_state=10)"
   ]
  },
  {
   "cell_type": "code",
   "execution_count": 44,
   "id": "c9b43bf0",
   "metadata": {},
   "outputs": [
    {
     "name": "stdout",
     "output_type": "stream",
     "text": [
      "Estimating biases using als...\n",
      "Computing the pearson_baseline similarity matrix...\n",
      "Done computing similarity matrix.\n"
     ]
    },
    {
     "data": {
      "text/plain": [
       "<surprise.prediction_algorithms.knns.KNNWithMeans at 0x1b812d4ca90>"
      ]
     },
     "execution_count": 44,
     "metadata": {},
     "output_type": "execute_result"
    }
   ],
   "source": [
    "# Hacemos la filtración colaborativa de los usuarios o el artículo en este caso el libro\n",
    "algo = KNNWithMeans(k=5, sim_options={'name': 'pearson_baseline', 'user_based': False})\n",
    "algo.fit(trainset)"
   ]
  },
  {
   "cell_type": "code",
   "execution_count": 45,
   "id": "f7bdccd0",
   "metadata": {},
   "outputs": [],
   "source": [
    "# Ejecutamos el entrenamiento con los datos de prueba\n",
    "test_pred = algo.test(testset)"
   ]
  },
  {
   "cell_type": "code",
   "execution_count": 46,
   "id": "0ae91798",
   "metadata": {},
   "outputs": [
    {
     "name": "stdout",
     "output_type": "stream",
     "text": [
      "RMSE: 2.9306\n"
     ]
    },
    {
     "data": {
      "text/plain": [
       "2.9306185721359865"
      ]
     },
     "execution_count": 46,
     "metadata": {},
     "output_type": "execute_result"
    }
   ],
   "source": [
    "# Calculamos el RMSE de nuestros datos\n",
    "accuracy.rmse(test_pred, verbose=True)"
   ]
  },
  {
   "cell_type": "code",
   "execution_count": 47,
   "id": "68751624",
   "metadata": {},
   "outputs": [
    {
     "data": {
      "text/plain": [
       "Prediction(uid=10, iid=43, r_ui=None, est=5, details={'actual_k': 0, 'was_impossible': False})"
      ]
     },
     "execution_count": 47,
     "metadata": {},
     "output_type": "execute_result"
    }
   ],
   "source": [
    "# Visualizamos los datos de la prediccion\n",
    "algo.predict(uid = 10, iid = 43)"
   ]
  },
  {
   "cell_type": "code",
   "execution_count": null,
   "id": "0be95aed-aea0-4624-a445-dd2a211bdf7c",
   "metadata": {},
   "outputs": [],
   "source": []
  }
 ],
 "metadata": {
  "kernelspec": {
   "display_name": "Python 3 (ipykernel)",
   "language": "python",
   "name": "python3"
  },
  "language_info": {
   "codemirror_mode": {
    "name": "ipython",
    "version": 3
   },
   "file_extension": ".py",
   "mimetype": "text/x-python",
   "name": "python",
   "nbconvert_exporter": "python",
   "pygments_lexer": "ipython3",
   "version": "3.10.0"
  }
 },
 "nbformat": 4,
 "nbformat_minor": 5
}
